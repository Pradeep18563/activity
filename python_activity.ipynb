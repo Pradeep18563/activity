{
 "cells": [
  {
   "cell_type": "code",
   "execution_count": 1,
   "id": "eccccd83",
   "metadata": {},
   "outputs": [
    {
     "name": "stdout",
     "output_type": "stream",
     "text": [
      "Enter the side of the equilateral triangle: 5\n",
      "Area of equilateral triangle: 10.825317547305483\n"
     ]
    }
   ],
   "source": [
    "import math\n",
    "\n",
    "side = float(input(\"Enter the side of the equilateral triangle: \"))\n",
    "area = ((math.sqrt(3))/4)*pow(side,2)\n",
    "print(\"Area of equilateral triangle:\",area)"
   ]
  },
  {
   "cell_type": "code",
   "execution_count": 2,
   "id": "b83516d1",
   "metadata": {},
   "outputs": [
    {
     "name": "stdout",
     "output_type": "stream",
     "text": [
      "Length : 5\n",
      "Width : 6\n",
      "Area of Rectangle :  30\n",
      "Perimeter of Rectangle :  22\n"
     ]
    }
   ],
   "source": [
    "l=int(input(\"Length : \"))\n",
    "b=int(input(\"Width : \"))\n",
    "area=l*b\n",
    "perimeter=2*(l+b)\n",
    "print(\"Area of Rectangle : \",area)\n",
    "print(\"Perimeter of Rectangle : \",perimeter)\n",
    " "
   ]
  },
  {
   "cell_type": "code",
   "execution_count": 3,
   "id": "6092c4c4",
   "metadata": {},
   "outputs": [
    {
     "name": "stdout",
     "output_type": "stream",
     "text": [
      "Length : 5\n",
      "Width : 6\n",
      "Area of Rectangle :  30\n",
      "Perimeter of Rectangle :  22\n"
     ]
    }
   ],
   "source": [
    "l=int(input(\"Length : \"))\n",
    "b=int(input(\"Width : \"))\n",
    "area=l*b\n",
    "perimeter=2*(l+b)\n",
    "print(\"Area of Rectangle : \",area)\n",
    "print(\"Perimeter of Rectangle : \",perimeter)\n",
    " "
   ]
  },
  {
   "cell_type": "code",
   "execution_count": 4,
   "id": "f277fd68",
   "metadata": {},
   "outputs": [
    {
     "name": "stdout",
     "output_type": "stream",
     "text": [
      "Enter how many numbers in fibinocci series you want:6\n",
      "0\n",
      "1\n",
      "1\n",
      "2\n",
      "3\n",
      "5\n"
     ]
    }
   ],
   "source": [
    "n=int(input('Enter how many numbers in fibinocci series you want:'))\n",
    "a=0\n",
    "b=1\n",
    "for i in range(n):\n",
    "    print(a)\n",
    "    c=a\n",
    "    a=b\n",
    "    b=c+b\n",
    "    \n",
    "    "
   ]
  },
  {
   "cell_type": "code",
   "execution_count": 5,
   "id": "d7ad76b3",
   "metadata": {},
   "outputs": [
    {
     "name": "stdout",
     "output_type": "stream",
     "text": [
      "Enter three numbers followed by  : 4 5 6\n",
      "First number : 4\n",
      "Second number : 5\n",
      "Third number : 6\n",
      "4  is smallest\n"
     ]
    }
   ],
   "source": [
    "a,b,c = input(\"Enter three numbers followed by  : \").split()\n",
    "\n",
    "print(\"First number :\",a)\n",
    "print(\"Second number :\",b)\n",
    "print(\"Third number :\",c)\n",
    "if a==b==c:\n",
    "    print(\"Entered numbers are equal!!!\")\n",
    "if a<b and a<c:\n",
    "\n",
    "    print(a,\" is smallest\")\n",
    "if b<a and b<c:\n",
    "\n",
    "    print(b,\" is smallest\")\n",
    "if c<a and c<b:\n",
    "\n",
    "    print(c,\" is smallest\")"
   ]
  },
  {
   "cell_type": "code",
   "execution_count": 6,
   "id": "a8337115",
   "metadata": {},
   "outputs": [
    {
     "name": "stdout",
     "output_type": "stream",
     "text": [
      "no.of rows6\n",
      "*\n",
      "**\n",
      "***\n",
      "****\n",
      "*****\n",
      "******\n"
     ]
    }
   ],
   "source": [
    "n=int(input('no.of rows'))\n",
    "for i in range(0,n):\n",
    "    \n",
    "    for j in range(0,i+1):\n",
    "        print(\"*\",end=\"\")\n",
    "    print()"
   ]
  },
  {
   "cell_type": "code",
   "execution_count": 7,
   "id": "e028a8db",
   "metadata": {},
   "outputs": [
    {
     "name": "stdout",
     "output_type": "stream",
     "text": [
      "enter the time5\n",
      "5  Hour is equal to 18000  Seconds\n"
     ]
    }
   ],
   "source": [
    "def to_seconds(t):\n",
    "    t=int(t)*3600\n",
    "    return t\n",
    "time_in_hours = input(\"enter the time\")\n",
    "print(time_in_hours ,\" Hour is equal to\" ,to_seconds(time_in_hours) ,\" Seconds\")\n"
   ]
  },
  {
   "cell_type": "code",
   "execution_count": 8,
   "id": "de064998",
   "metadata": {},
   "outputs": [
    {
     "name": "stdout",
     "output_type": "stream",
     "text": [
      "enter the number:5\n",
      "multiplication table of 5\n",
      "5 x 1 = 5\n",
      "5 x 2 = 10\n",
      "5 x 3 = 15\n",
      "5 x 4 = 20\n",
      "5 x 5 = 25\n",
      "5 x 6 = 30\n",
      "5 x 7 = 35\n",
      "5 x 8 = 40\n",
      "5 x 9 = 45\n",
      "5 x 10 = 50\n"
     ]
    }
   ],
   "source": [
    "number=input('enter the number:')\n",
    "print('multiplication table of',number)\n",
    "for i in range(1,11):\n",
    "    print(number,'x',i,'=',int(number) * i)"
   ]
  },
  {
   "cell_type": "code",
   "execution_count": 9,
   "id": "4d130fe0",
   "metadata": {},
   "outputs": [
    {
     "name": "stdout",
     "output_type": "stream",
     "text": [
      "biriyani:  I like biriyani only\n"
     ]
    }
   ],
   "source": [
    "list1 = ['masal','biriyani','vada','rice','chapati']\n",
    "a=\"biriyani: \"\n",
    "if a in list1:\n",
    "    print(f'{a} I like biriyani')\n",
    "else:\n",
    "    print(f'{a} I like biriyani only')\n",
    "    "
   ]
  },
  {
   "cell_type": "code",
   "execution_count": 10,
   "id": "e4309041",
   "metadata": {},
   "outputs": [
    {
     "name": "stdout",
     "output_type": "stream",
     "text": [
      "Enter value of x:5\n",
      "5  0 They are unequal\n",
      "5  1 They are unequal\n",
      "5  2 They are unequal\n",
      "5  3 They are unequal\n",
      "5  4 They are unequal\n",
      "5  5 They are equal\n",
      "5  6 They are unequal\n",
      "5  7 They are unequal\n",
      "5  8 They are unequal\n",
      "5  9 They are unequal\n"
     ]
    }
   ],
   "source": [
    "x=int(input('Enter value of x:'))\n",
    "\n",
    "for y in range (0,10):\n",
    "     if x==y:\n",
    "          print(x,\"\",y,\"They are equal\")\n",
    "     else:\n",
    "         print(x,\"\",y, \"They are unequal\")"
   ]
  },
  {
   "cell_type": "code",
   "execution_count": null,
   "id": "b6001c19",
   "metadata": {},
   "outputs": [],
   "source": []
  }
 ],
 "metadata": {
  "kernelspec": {
   "display_name": "Python 3",
   "language": "python",
   "name": "python3"
  },
  "language_info": {
   "codemirror_mode": {
    "name": "ipython",
    "version": 3
   },
   "file_extension": ".py",
   "mimetype": "text/x-python",
   "name": "python",
   "nbconvert_exporter": "python",
   "pygments_lexer": "ipython3",
   "version": "3.8.8"
  }
 },
 "nbformat": 4,
 "nbformat_minor": 5
}
